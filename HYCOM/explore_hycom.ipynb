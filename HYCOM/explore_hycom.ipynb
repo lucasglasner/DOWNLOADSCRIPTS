{
 "cells": [
  {
   "cell_type": "code",
   "execution_count": 1,
   "metadata": {},
   "outputs": [],
   "source": [
    "import xarray as xr\n",
    "import xesmf as xe\n",
    "import pandas as pd\n",
    "import datetime\n",
    "import os"
   ]
  },
  {
   "cell_type": "code",
   "execution_count": 26,
   "metadata": {},
   "outputs": [],
   "source": [
    "first_date = '2021-01-01'\n",
    "last_date  = '2022-12-31'\n",
    "\n",
    "lonmin,lonmax = -90,-69\n",
    "latmin,latmax = -40,-15\n",
    "\n",
    "variables = [\n",
    "    'surf_el',\n",
    "    'water_temp',\n",
    "    'salinity',\n",
    "    'water_u',\n",
    "    'water_v']\n",
    "\n"
   ]
  },
  {
   "cell_type": "code",
   "execution_count": 29,
   "metadata": {},
   "outputs": [],
   "source": [
    "def get_hycom_filename(ftype):\n",
    "    if ftype=='hindcast':\n",
    "        url  = 'https://<Lucas.Glasner:y4vkrp7lqcv>@tds.hycom.org/thredds/dodsC/GLBy0.08/expt_93.0'\n",
    "    if ftype=='reanalysis':\n",
    "        url  = 'https://<Lucas.Glasner:y4vkrp7lqcv>@tds.hycom.org/thredds/dodsC/GLBv0.08/expt_53.X/data'\n",
    "    return url\n",
    "\n",
    "\n",
    "def get_hycom_hindcast(first_date, last_date, lonmin, lonmax, latmin, latmax, variables):\n",
    "    url  = get_hycom_filename('hindcast')\n",
    "    data = xr.open_dataset(url, decode_times=False)\n",
    "    data = data[variables]\n",
    "    data = data.sel(lat=slice(latmin,latmax), lon=slice(lonmin, lonmax))\n",
    "    units,reference_date =  data.time.attrs['units'].split('since')\n",
    "\n",
    "    time = [pd.Timedelta(hours=t)+pd.to_datetime(reference_date) for t in data.time.values]\n",
    "    data.coords['time'] = ('time',time,data.time.attrs)\n",
    "    data = data.sel(time=slice(first_date, last_date))\n",
    "    return data\n",
    "    \n",
    "def get_hycom_reanalysis(year, lonmin, lonmax, latmin, latmax, variables):\n",
    "    url  = get_hycom_filename('reanalysis')+'/{}'.format(year)\n",
    "    data = xr.open_dataset(url, decode_times=False)\n",
    "    data = data[variables]\n",
    "    data = data.sel(lat=slice(latmin,latmax), lon=slice(lonmin,lonmax))\n",
    "    units,reference_date =  data.time.attrs['units'].split('since')\n",
    "    time = [pd.Timedelta(hours=t)+pd.to_datetime(reference_date) for t in data.time.values]\n",
    "    data.coords['time'] = ('time',time,data.time.attrs)\n",
    "    return data"
   ]
  },
  {
   "cell_type": "code",
   "execution_count": 30,
   "metadata": {},
   "outputs": [],
   "source": [
    "data = get_hycom_reanalysis(1994, lonmin, lonmax, latmin, latmax, variables)"
   ]
  }
 ],
 "metadata": {
  "kernelspec": {
   "display_name": "forecast",
   "language": "python",
   "name": "python3"
  },
  "language_info": {
   "codemirror_mode": {
    "name": "ipython",
    "version": 3
   },
   "file_extension": ".py",
   "mimetype": "text/x-python",
   "name": "python",
   "nbconvert_exporter": "python",
   "pygments_lexer": "ipython3",
   "version": "3.8.13"
  },
  "orig_nbformat": 4
 },
 "nbformat": 4,
 "nbformat_minor": 2
}
